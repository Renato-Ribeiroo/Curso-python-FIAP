{
 "cells": [
  {
   "cell_type": "markdown",
   "id": "788fb934",
   "metadata": {},
   "source": [
    "# Processamento de Linguagem Natural"
   ]
  },
  {
   "cell_type": "markdown",
   "id": "e14068aa",
   "metadata": {},
   "source": [
    "## Utilizaremos a plataforma IBM Watson para PLN integrado ao Python"
   ]
  },
  {
   "cell_type": "markdown",
   "id": "43dff8b7",
   "metadata": {},
   "source": [
    "### IBM Cloud https://cloud.ibm.com/developer/watson/dashboard\n",
    "### Criar API gratuitamente - Natural Language Understanding-sn"
   ]
  },
  {
   "cell_type": "code",
   "execution_count": 48,
   "id": "8a9b0598",
   "metadata": {},
   "outputs": [
    {
     "name": "stdout",
     "output_type": "stream",
     "text": [
      "Requirement already satisfied: watson_developer_cloud in c:\\users\\renato\\anaconda3\\lib\\site-packages (2.10.1)\n",
      "Requirement already satisfied: websocket-client==0.48.0 in c:\\users\\renato\\anaconda3\\lib\\site-packages (from watson_developer_cloud) (0.48.0)\n",
      "Requirement already satisfied: python-dateutil>=2.5.3 in c:\\users\\renato\\anaconda3\\lib\\site-packages (from watson_developer_cloud) (2.8.2)\n",
      "Requirement already satisfied: requests<3.0,>=2.0 in c:\\users\\renato\\anaconda3\\lib\\site-packages (from watson_developer_cloud) (2.26.0)\n",
      "Requirement already satisfied: six in c:\\users\\renato\\anaconda3\\lib\\site-packages (from websocket-client==0.48.0->watson_developer_cloud) (1.16.0)\n",
      "Requirement already satisfied: idna<4,>=2.5 in c:\\users\\renato\\anaconda3\\lib\\site-packages (from requests<3.0,>=2.0->watson_developer_cloud) (3.2)\n",
      "Requirement already satisfied: charset-normalizer~=2.0.0 in c:\\users\\renato\\anaconda3\\lib\\site-packages (from requests<3.0,>=2.0->watson_developer_cloud) (2.0.4)\n",
      "Requirement already satisfied: certifi>=2017.4.17 in c:\\users\\renato\\anaconda3\\lib\\site-packages (from requests<3.0,>=2.0->watson_developer_cloud) (2021.10.8)\n",
      "Requirement already satisfied: urllib3<1.27,>=1.21.1 in c:\\users\\renato\\anaconda3\\lib\\site-packages (from requests<3.0,>=2.0->watson_developer_cloud) (1.26.7)\n"
     ]
    },
    {
     "name": "stderr",
     "output_type": "stream",
     "text": [
      "WARNING: Ignoring invalid distribution -pencv-python (c:\\users\\renato\\anaconda3\\lib\\site-packages)\n",
      "WARNING: Ignoring invalid distribution -pencv-python (c:\\users\\renato\\anaconda3\\lib\\site-packages)\n",
      "WARNING: Ignoring invalid distribution -pencv-python (c:\\users\\renato\\anaconda3\\lib\\site-packages)\n",
      "WARNING: Ignoring invalid distribution -pencv-python (c:\\users\\renato\\anaconda3\\lib\\site-packages)\n",
      "WARNING: Ignoring invalid distribution -pencv-python (c:\\users\\renato\\anaconda3\\lib\\site-packages)\n",
      "WARNING: Ignoring invalid distribution -pencv-python (c:\\users\\renato\\anaconda3\\lib\\site-packages)\n"
     ]
    },
    {
     "name": "stdout",
     "output_type": "stream",
     "text": [
      "Collecting ibm-watson>=6.0.0\n"
     ]
    },
    {
     "name": "stderr",
     "output_type": "stream",
     "text": [
      "WARNING: Ignoring invalid distribution -pencv-python (c:\\users\\renato\\anaconda3\\lib\\site-packages)\n",
      "WARNING: Ignoring invalid distribution -pencv-python (c:\\users\\renato\\anaconda3\\lib\\site-packages)\n",
      "WARNING: Ignoring invalid distribution -pencv-python (c:\\users\\renato\\anaconda3\\lib\\site-packages)\n",
      "    WARNING: Ignoring invalid distribution -pencv-python (c:\\users\\renato\\anaconda3\\lib\\site-packages)\n",
      "    WARNING: Ignoring invalid distribution -pencv-python (c:\\users\\renato\\anaconda3\\lib\\site-packages)\n",
      "WARNING: Ignoring invalid distribution -pencv-python (c:\\users\\renato\\anaconda3\\lib\\site-packages)\n",
      "WARNING: Ignoring invalid distribution -pencv-python (c:\\users\\renato\\anaconda3\\lib\\site-packages)\n",
      "WARNING: Ignoring invalid distribution -pencv-python (c:\\users\\renato\\anaconda3\\lib\\site-packages)\n",
      "WARNING: Ignoring invalid distribution -pencv-python (c:\\users\\renato\\anaconda3\\lib\\site-packages)\n",
      "ERROR: pip's dependency resolver does not currently take into account all the packages that are installed. This behaviour is the source of the following dependency conflicts.\n",
      "watson-developer-cloud 2.10.1 requires websocket-client==0.48.0, but you have websocket-client 1.1.0 which is incompatible.\n",
      "WARNING: Ignoring invalid distribution -pencv-python (c:\\users\\renato\\anaconda3\\lib\\site-packages)\n",
      "WARNING: Ignoring invalid distribution -pencv-python (c:\\users\\renato\\anaconda3\\lib\\site-packages)\n",
      "WARNING: Ignoring invalid distribution -pencv-python (c:\\users\\renato\\anaconda3\\lib\\site-packages)\n"
     ]
    },
    {
     "name": "stdout",
     "output_type": "stream",
     "text": [
      "  Downloading ibm-watson-6.0.0.tar.gz (338 kB)\n",
      "     -------------------------------------- 338.4/338.4 kB 4.2 MB/s eta 0:00:00\n",
      "  Installing build dependencies: started\n",
      "  Installing build dependencies: finished with status 'done'\n",
      "  Getting requirements to build wheel: started\n",
      "  Getting requirements to build wheel: finished with status 'done'\n",
      "  Preparing metadata (pyproject.toml): started\n",
      "  Preparing metadata (pyproject.toml): finished with status 'done'\n",
      "Requirement already satisfied: requests<3.0,>=2.0 in c:\\users\\renato\\anaconda3\\lib\\site-packages (from ibm-watson>=6.0.0) (2.26.0)\n",
      "Requirement already satisfied: python-dateutil>=2.5.3 in c:\\users\\renato\\anaconda3\\lib\\site-packages (from ibm-watson>=6.0.0) (2.8.2)\n",
      "Collecting websocket-client==1.1.0\n",
      "  Downloading websocket_client-1.1.0-py2.py3-none-any.whl (68 kB)\n",
      "     ---------------------------------------- 68.7/68.7 kB 3.7 MB/s eta 0:00:00\n",
      "Collecting ibm-cloud-sdk-core==3.*,>=3.3.6\n",
      "  Downloading ibm-cloud-sdk-core-3.15.3.tar.gz (50 kB)\n",
      "     ---------------------------------------- 50.9/50.9 kB 2.5 MB/s eta 0:00:00\n",
      "  Preparing metadata (setup.py): started\n",
      "  Preparing metadata (setup.py): finished with status 'done'\n",
      "Requirement already satisfied: urllib3<2.0.0,>=1.26.0 in c:\\users\\renato\\anaconda3\\lib\\site-packages (from ibm-cloud-sdk-core==3.*,>=3.3.6->ibm-watson>=6.0.0) (1.26.7)\n",
      "Collecting PyJWT<3.0.0,>=2.4.0\n",
      "  Downloading PyJWT-2.4.0-py3-none-any.whl (18 kB)\n",
      "Requirement already satisfied: six>=1.5 in c:\\users\\renato\\anaconda3\\lib\\site-packages (from python-dateutil>=2.5.3->ibm-watson>=6.0.0) (1.16.0)\n",
      "Requirement already satisfied: certifi>=2017.4.17 in c:\\users\\renato\\anaconda3\\lib\\site-packages (from requests<3.0,>=2.0->ibm-watson>=6.0.0) (2021.10.8)\n",
      "Requirement already satisfied: idna<4,>=2.5 in c:\\users\\renato\\anaconda3\\lib\\site-packages (from requests<3.0,>=2.0->ibm-watson>=6.0.0) (3.2)\n",
      "Requirement already satisfied: charset-normalizer~=2.0.0 in c:\\users\\renato\\anaconda3\\lib\\site-packages (from requests<3.0,>=2.0->ibm-watson>=6.0.0) (2.0.4)\n",
      "Building wheels for collected packages: ibm-watson, ibm-cloud-sdk-core\n",
      "  Building wheel for ibm-watson (pyproject.toml): started\n",
      "  Building wheel for ibm-watson (pyproject.toml): finished with status 'done'\n",
      "  Created wheel for ibm-watson: filename=ibm_watson-6.0.0-py3-none-any.whl size=336791 sha256=6528b2f0558814a3b8c8f213485e6e82708768bcbf913aa0ac69d90fd9325e75\n",
      "  Stored in directory: c:\\users\\renato\\appdata\\local\\pip\\cache\\wheels\\d1\\cd\\2c\\b423c19d8590c90ff21522a4be4b88b30e574b6f6a2b8cb557\n",
      "  Building wheel for ibm-cloud-sdk-core (setup.py): started\n",
      "  Building wheel for ibm-cloud-sdk-core (setup.py): finished with status 'done'\n",
      "  Created wheel for ibm-cloud-sdk-core: filename=ibm_cloud_sdk_core-3.15.3-py3-none-any.whl size=83622 sha256=4126b8cbafe81501dd5f0125019b0e8498f04e9da6c13a802f032102e947fe1f\n",
      "  Stored in directory: c:\\users\\renato\\appdata\\local\\pip\\cache\\wheels\\cf\\45\\1b\\77a7bfbbc826e490b5d01d68006454c1d7c8df0924b6261316\n",
      "Successfully built ibm-watson ibm-cloud-sdk-core\n",
      "Installing collected packages: websocket-client, PyJWT, ibm-cloud-sdk-core, ibm-watson\n",
      "  Attempting uninstall: websocket-client\n",
      "    Found existing installation: websocket-client 0.48.0\n",
      "    Uninstalling websocket-client-0.48.0:\n",
      "      Successfully uninstalled websocket-client-0.48.0\n",
      "  Attempting uninstall: PyJWT\n",
      "    Found existing installation: PyJWT 2.1.0\n",
      "    Uninstalling PyJWT-2.1.0:\n",
      "      Successfully uninstalled PyJWT-2.1.0\n",
      "Successfully installed PyJWT-2.4.0 ibm-cloud-sdk-core-3.15.3 ibm-watson-6.0.0 websocket-client-1.1.0\n"
     ]
    }
   ],
   "source": [
    "#instalando e atualizando toda ferramenta cloud IBm\n",
    "#no próprio site IBM temo o tutorial para instalar e conectar com a API\n",
    "!pip install watson_developer_cloud\n",
    "!pip install --upgrade \"ibm-watson>=6.0.0\"\n"
   ]
  },
  {
   "cell_type": "code",
   "execution_count": 64,
   "id": "aecddcbb",
   "metadata": {},
   "outputs": [],
   "source": [
    "# Importantando a bibliotecas necessatias utilizar e conectar na API\n",
    "import json\n",
    "from ibm_watson import NaturalLanguageUnderstandingV1\n",
    "from ibm_cloud_sdk_core.authenticators import IAMAuthenticator\n",
    "from ibm_watson.natural_language_understanding_v1 \\\n",
    "    import Features, ConceptsOptions, RelationsOptions, EmotionOptions, EntitiesOptions, SemanticRolesOptions, SentimentOptions"
   ]
  },
  {
   "cell_type": "code",
   "execution_count": 65,
   "id": "14b554e0",
   "metadata": {},
   "outputs": [],
   "source": [
    "# Conectando na API\n",
    "authenticator = IAMAuthenticator('Gc2nDNBzktb4bT9ST0_9Oew-hpzbg32Wzn0lEnxR6B0x')\n",
    "natural_language_understanding = NaturalLanguageUnderstandingV1(\n",
    "    version='2022-04-07',\n",
    "    authenticator=authenticator)\n",
    "\n",
    "natural_language_understanding.set_service_url('https://api.au-syd.natural-language-understanding.watson.cloud.ibm.com/instances/765462f7-6035-47c8-ba9e-78170aa801ae')"
   ]
  },
  {
   "cell_type": "code",
   "execution_count": 75,
   "id": "a5374711",
   "metadata": {},
   "outputs": [
    {
     "name": "stdout",
     "output_type": "stream",
     "text": [
      "{\n",
      "  \"usage\": {\n",
      "    \"text_units\": 1,\n",
      "    \"text_characters\": 31,\n",
      "    \"features\": 4\n",
      "  },\n",
      "  \"sentiment\": {\n",
      "    \"document\": {\n",
      "      \"score\": 0,\n",
      "      \"label\": \"neutral\"\n",
      "    }\n",
      "  },\n",
      "  \"language\": \"en\",\n",
      "  \"entities\": [\n",
      "    {\n",
      "      \"type\": \"JobTitle\",\n",
      "      \"text\": \"president\",\n",
      "      \"relevance\": 0.963296,\n",
      "      \"count\": 1,\n",
      "      \"confidence\": 0.951871\n",
      "    },\n",
      "    {\n",
      "      \"type\": \"Location\",\n",
      "      \"text\": \"Brazil\",\n",
      "      \"relevance\": 0.356384,\n",
      "      \"count\": 1,\n",
      "      \"confidence\": 0.453427\n",
      "    }\n",
      "  ],\n",
      "  \"emotion\": {\n",
      "    \"document\": {\n",
      "      \"emotion\": {\n",
      "        \"sadness\": 0.414991,\n",
      "        \"joy\": 0.348832,\n",
      "        \"fear\": 0.086416,\n",
      "        \"disgust\": 0.006725,\n",
      "        \"anger\": 0.031695\n",
      "      }\n",
      "    }\n",
      "  },\n",
      "  \"concepts\": [\n",
      "    {\n",
      "      \"text\": \"President\",\n",
      "      \"relevance\": 0.886784,\n",
      "      \"dbpedia_resource\": \"http://dbpedia.org/resource/President\"\n",
      "    },\n",
      "    {\n",
      "      \"text\": \"President of the United States\",\n",
      "      \"relevance\": 0.862208,\n",
      "      \"dbpedia_resource\": \"http://dbpedia.org/resource/President_of_the_United_States\"\n",
      "    },\n",
      "    {\n",
      "      \"text\": \"Politics of Brazil\",\n",
      "      \"relevance\": 0.845824,\n",
      "      \"dbpedia_resource\": \"http://dbpedia.org/resource/Politics_of_Brazil\"\n",
      "    }\n",
      "  ]\n",
      "}\n"
     ]
    }
   ],
   "source": [
    "# chamando as funções e passanmos para o Watson uma frase para entender o significado\n",
    "response = natural_language_understanding.analyze(\n",
    "    text='Who is the president of Brazil?',\n",
    "    features=Features(concepts=ConceptsOptions(),\n",
    "                     emotion=EmotionOptions(),\n",
    "                     entities=EntitiesOptions(),\n",
    "                     sentiment=SentimentOptions(),\n",
    "                     )).get_result()\n",
    "#pega o resultado codificado e realiza uma identação de 2 níveis\n",
    "print(json.dumps(response, indent=2))"
   ]
  },
  {
   "cell_type": "code",
   "execution_count": 77,
   "id": "2e65faed",
   "metadata": {},
   "outputs": [
    {
     "name": "stdout",
     "output_type": "stream",
     "text": [
      "{\n",
      "  \"usage\": {\n",
      "    \"text_units\": 1,\n",
      "    \"text_characters\": 34,\n",
      "    \"features\": 2\n",
      "  },\n",
      "  \"semantic_roles\": [\n",
      "    {\n",
      "      \"subject\": {\n",
      "        \"text\": \"Steve Jobs\"\n",
      "      },\n",
      "      \"sentence\": \"Steve Jobs is the founder of Apple\",\n",
      "      \"object\": {\n",
      "        \"text\": \"the founder of Apple\"\n",
      "      },\n",
      "      \"action\": {\n",
      "        \"verb\": {\n",
      "          \"text\": \"be\",\n",
      "          \"tense\": \"present\"\n",
      "        },\n",
      "        \"text\": \"is\",\n",
      "        \"normalized\": \"be\"\n",
      "      }\n",
      "    }\n",
      "  ],\n",
      "  \"language\": \"en\",\n",
      "  \"entities\": [\n",
      "    {\n",
      "      \"type\": \"Person\",\n",
      "      \"text\": \"Steve Jobs\",\n",
      "      \"relevance\": 0.963296,\n",
      "      \"disambiguation\": {\n",
      "        \"subtype\": [\n",
      "          \"BoardMember\",\n",
      "          \"CompanyFounder\",\n",
      "          \"ComputerDesigner\",\n",
      "          \"FilmProducer\"\n",
      "        ],\n",
      "        \"name\": \"Steve_Jobs\",\n",
      "        \"dbpedia_resource\": \"http://dbpedia.org/resource/Steve_Jobs\"\n",
      "      },\n",
      "      \"count\": 1,\n",
      "      \"confidence\": 0.442115\n",
      "    },\n",
      "    {\n",
      "      \"type\": \"Organization\",\n",
      "      \"text\": \"Apple\",\n",
      "      \"relevance\": 0.049035,\n",
      "      \"count\": 1,\n",
      "      \"confidence\": 0.698617\n",
      "    }\n",
      "  ]\n",
      "}\n"
     ]
    }
   ],
   "source": [
    "response = natural_language_understanding.analyze(\n",
    "  text='Steve Jobs is the founder of Apple',\n",
    "  features=Features(\n",
    "    entities=EntitiesOptions(),\n",
    "    semantic_roles=SemanticRolesOptions(),\n",
    "    )).get_result()\n",
    "\n",
    "print(json.dumps(response, indent=2))"
   ]
  },
  {
   "cell_type": "code",
   "execution_count": 78,
   "id": "ce5a595f",
   "metadata": {},
   "outputs": [
    {
     "name": "stdout",
     "output_type": "stream",
     "text": [
      "{\n",
      "  \"usage\": {\n",
      "    \"text_units\": 1,\n",
      "    \"text_characters\": 39,\n",
      "    \"features\": 4\n",
      "  },\n",
      "  \"sentiment\": {\n",
      "    \"document\": {\n",
      "      \"score\": 0.75298,\n",
      "      \"label\": \"positive\"\n",
      "    }\n",
      "  },\n",
      "  \"relations\": [],\n",
      "  \"language\": \"pt\",\n",
      "  \"entities\": [\n",
      "    {\n",
      "      \"type\": \"Organization\",\n",
      "      \"text\": \"FIAP\",\n",
      "      \"relevance\": 0.978348,\n",
      "      \"count\": 1,\n",
      "      \"confidence\": 0.879578\n",
      "    }\n",
      "  ],\n",
      "  \"concepts\": [],\n",
      "  \"warnings\": [\n",
      "    \"emotion: unsupported text language: pt\",\n",
      "    \"semantic_roles: unsupported text language: pt\"\n",
      "  ]\n",
      "}\n"
     ]
    }
   ],
   "source": [
    "# o IBM Watson entende que a frase é em português, mas não consegue interpretar o signicado, pois não tem suporte\n",
    "response = natural_language_understanding.analyze(\n",
    "  text='Na FIAP, os alunos são muito dedicados.',\n",
    "  features=Features(\n",
    "    relations=RelationsOptions(),\n",
    "    concepts=ConceptsOptions(),\n",
    "    emotion=EmotionOptions(),\n",
    "    entities=EntitiesOptions(),\n",
    "    semantic_roles=SemanticRolesOptions(),\n",
    "    sentiment=SentimentOptions(),\n",
    "    )).get_result()\n",
    "\n",
    "print(json.dumps(response, indent=2))"
   ]
  },
  {
   "cell_type": "code",
   "execution_count": null,
   "id": "f15d93ac",
   "metadata": {},
   "outputs": [],
   "source": []
  }
 ],
 "metadata": {
  "kernelspec": {
   "display_name": "Python 3 (ipykernel)",
   "language": "python",
   "name": "python3"
  },
  "language_info": {
   "codemirror_mode": {
    "name": "ipython",
    "version": 3
   },
   "file_extension": ".py",
   "mimetype": "text/x-python",
   "name": "python",
   "nbconvert_exporter": "python",
   "pygments_lexer": "ipython3",
   "version": "3.9.7"
  }
 },
 "nbformat": 4,
 "nbformat_minor": 5
}
