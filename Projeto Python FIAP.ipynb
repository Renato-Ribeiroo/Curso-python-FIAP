{
 "cells": [
  {
   "cell_type": "markdown",
   "id": "ff8212e2",
   "metadata": {},
   "source": [
    "# Projeto FIAP"
   ]
  },
  {
   "cell_type": "markdown",
   "id": "bedcfaa9",
   "metadata": {},
   "source": [
    "## Analisaremos os dados para câncer de mama e diabétes "
   ]
  },
  {
   "cell_type": "code",
   "execution_count": 1,
   "id": "601cd338",
   "metadata": {},
   "outputs": [],
   "source": [
    "#importando as bibliotecas que utilizaremos no projeto\n",
    "\n",
    "#biblioteca que possuem os dados de câncer de mama e diabetes\n",
    "from sklearn.datasets import load_breast_cancer\n",
    "from sklearn.datasets import load_diabetes\n",
    "\n",
    "#bibiotecas que possuem os algoritmos de machine learning\n",
    "from sklearn import svm\n",
    "from sklearn.tree import DecisionTreeClassifier\n",
    "from sklearn.linear_model import LinearRegression\n",
    "from sklearn.model_selection import train_test_split\n",
    "\n",
    "#biblioteca para plotar os dados em graficos\n",
    "import matplotlib.pylab as plt\n",
    "%matplotlib inline"
   ]
  },
  {
   "cell_type": "code",
   "execution_count": 2,
   "id": "56cacfc2",
   "metadata": {},
   "outputs": [
    {
     "name": "stdout",
     "output_type": "stream",
     "text": [
      "['mean radius' 'mean texture' 'mean perimeter' 'mean area'\n",
      " 'mean smoothness' 'mean compactness' 'mean concavity'\n",
      " 'mean concave points' 'mean symmetry' 'mean fractal dimension'\n",
      " 'radius error' 'texture error' 'perimeter error' 'area error'\n",
      " 'smoothness error' 'compactness error' 'concavity error'\n",
      " 'concave points error' 'symmetry error' 'fractal dimension error'\n",
      " 'worst radius' 'worst texture' 'worst perimeter' 'worst area'\n",
      " 'worst smoothness' 'worst compactness' 'worst concavity'\n",
      " 'worst concave points' 'worst symmetry' 'worst fractal dimension']\n",
      "['malignant' 'benign']\n"
     ]
    }
   ],
   "source": [
    "#variavel que recebe todo conteudo do estudo de cancer\n",
    "dataset_cancer = load_breast_cancer()\n",
    "#printando na tela as variaveis e os valores\n",
    "print (dataset_cancer.feature_names)\n",
    "print (dataset_cancer.target_names)"
   ]
  },
  {
   "cell_type": "code",
   "execution_count": 3,
   "id": "228b842c",
   "metadata": {},
   "outputs": [
    {
     "name": "stdout",
     "output_type": "stream",
     "text": [
      "['age', 'sex', 'bmi', 'bp', 's1', 's2', 's3', 's4', 's5', 's6']\n",
      "[151.  75. 141. 206. 135.  97. 138.  63. 110. 310. 101.  69. 179. 185.\n",
      " 118. 171. 166. 144.  97. 168.  68.  49.  68. 245. 184. 202. 137.  85.\n",
      " 131. 283. 129.  59. 341.  87.  65. 102. 265. 276. 252.  90. 100.  55.\n",
      "  61.  92. 259.  53. 190. 142.  75. 142. 155. 225.  59. 104. 182. 128.\n",
      "  52.  37. 170. 170.  61. 144.  52. 128.  71. 163. 150.  97. 160. 178.\n",
      "  48. 270. 202. 111.  85.  42. 170. 200. 252. 113. 143.  51.  52. 210.\n",
      "  65. 141.  55. 134.  42. 111.  98. 164.  48.  96.  90. 162. 150. 279.\n",
      "  92.  83. 128. 102. 302. 198.  95.  53. 134. 144. 232.  81. 104.  59.\n",
      " 246. 297. 258. 229. 275. 281. 179. 200. 200. 173. 180.  84. 121. 161.\n",
      "  99. 109. 115. 268. 274. 158. 107.  83. 103. 272.  85. 280. 336. 281.\n",
      " 118. 317. 235.  60. 174. 259. 178. 128.  96. 126. 288.  88. 292.  71.\n",
      " 197. 186.  25.  84.  96. 195.  53. 217. 172. 131. 214.  59.  70. 220.\n",
      " 268. 152.  47.  74. 295. 101. 151. 127. 237. 225.  81. 151. 107.  64.\n",
      " 138. 185. 265. 101. 137. 143. 141.  79. 292. 178.  91. 116.  86. 122.\n",
      "  72. 129. 142.  90. 158.  39. 196. 222. 277.  99. 196. 202. 155.  77.\n",
      " 191.  70.  73.  49.  65. 263. 248. 296. 214. 185.  78.  93. 252. 150.\n",
      "  77. 208.  77. 108. 160.  53. 220. 154. 259.  90. 246. 124.  67.  72.\n",
      " 257. 262. 275. 177.  71.  47. 187. 125.  78.  51. 258. 215. 303. 243.\n",
      "  91. 150. 310. 153. 346.  63.  89.  50.  39. 103. 308. 116. 145.  74.\n",
      "  45. 115. 264.  87. 202. 127. 182. 241.  66.  94. 283.  64. 102. 200.\n",
      " 265.  94. 230. 181. 156. 233.  60. 219.  80.  68. 332. 248.  84. 200.\n",
      "  55.  85.  89.  31. 129.  83. 275.  65. 198. 236. 253. 124.  44. 172.\n",
      " 114. 142. 109. 180. 144. 163. 147.  97. 220. 190. 109. 191. 122. 230.\n",
      " 242. 248. 249. 192. 131. 237.  78. 135. 244. 199. 270. 164.  72.  96.\n",
      " 306.  91. 214.  95. 216. 263. 178. 113. 200. 139. 139.  88. 148.  88.\n",
      " 243.  71.  77. 109. 272.  60.  54. 221.  90. 311. 281. 182. 321.  58.\n",
      " 262. 206. 233. 242. 123. 167.  63. 197.  71. 168. 140. 217. 121. 235.\n",
      " 245.  40.  52. 104. 132.  88.  69. 219.  72. 201. 110.  51. 277.  63.\n",
      " 118.  69. 273. 258.  43. 198. 242. 232. 175.  93. 168. 275. 293. 281.\n",
      "  72. 140. 189. 181. 209. 136. 261. 113. 131. 174. 257.  55.  84.  42.\n",
      " 146. 212. 233.  91. 111. 152. 120.  67. 310.  94. 183.  66. 173.  72.\n",
      "  49.  64.  48. 178. 104. 132. 220.  57.]\n"
     ]
    }
   ],
   "source": [
    "#variavel que recebe todo conteudo do estudo de diabetes\n",
    "dataset_diabetes = load_diabetes()\n",
    "#printando na tela as variaveis e os valores\n",
    "print (dataset_diabetes.feature_names)\n",
    "print (dataset_diabetes.target)"
   ]
  },
  {
   "cell_type": "markdown",
   "id": "91dd156b",
   "metadata": {},
   "source": [
    "## Executando os modelos de Machine Learning"
   ]
  },
  {
   "cell_type": "code",
   "execution_count": 19,
   "id": "0fb90c25",
   "metadata": {},
   "outputs": [],
   "source": [
    "#segregando os dados para treino e teste dataset câncer\n",
    "X_train_can, X_teste_can, Y_train_can, y_teste_can = train_test_split(\n",
    "    dataset_cancer.data, \n",
    "    dataset_cancer.target, \n",
    "    stratify=dataset_cancer.target,\n",
    "    random_state=42)"
   ]
  },
  {
   "cell_type": "code",
   "execution_count": 34,
   "id": "5e504fdf",
   "metadata": {},
   "outputs": [],
   "source": [
    "#segregando os dados para treino e teste dataset diabetes\n",
    "X_train_dia, X_teste_dia, Y_train_dia, y_teste_dia = train_test_split(    \n",
    "    dataset_diabetes.data, \n",
    "    dataset_diabetes.target,\n",
    "    random_state=42)"
   ]
  },
  {
   "cell_type": "markdown",
   "id": "14535de3",
   "metadata": {},
   "source": [
    "## Treinando os dados com o modelo SVM"
   ]
  },
  {
   "cell_type": "code",
   "execution_count": 11,
   "id": "ef8a2619",
   "metadata": {},
   "outputs": [
    {
     "data": {
      "text/plain": [
       "<matplotlib.legend.Legend at 0x27e38dd18b0>"
      ]
     },
     "execution_count": 11,
     "metadata": {},
     "output_type": "execute_result"
    },
    {
     "data": {
      "image/png": "[encoded data removed]",
      "text/plain": [
       "<Figure size 432x288 with 1 Axes>"
      ]
     },
     "metadata": {
      "needs_background": "light"
     },
     "output_type": "display_data"
    }
   ],
   "source": [
    "training_accuracy = []\n",
    "test_accuracy = []\n",
    "\n",
    "kernels = ['linear', 'rbf', 'sigmoid']\n",
    "for kernel in kernels:\n",
    "    svm_model = svm.SVC(kernel=kernel) \n",
    "    svm_model.fit(X_train_can, Y_train_can)\n",
    "    training_accuracy.append(svm_model.score(X_train_can, Y_train_can))\n",
    "    test_accuracy.append(svm_model.score(X_teste_can, y_teste_can))\n",
    "    \n",
    "plt.plot(kernels, training_accuracy, label= 'Acuracia no conjunto treino')\n",
    "plt.plot(kernels, test_accuracy, label= 'Acuracia no conjunto teste')\n",
    "plt.ylabel('Acuracia')\n",
    "plt.xlabel('Kernels')\n",
    "plt.legend()    \n",
    "    "
   ]
  },
  {
   "cell_type": "markdown",
   "id": "5f680d1b",
   "metadata": {},
   "source": [
    "## Treinando os dados com o modelo de Arvore de Decisão"
   ]
  },
  {
   "cell_type": "code",
   "execution_count": 12,
   "id": "1ccbe019",
   "metadata": {},
   "outputs": [
    {
     "data": {
      "text/plain": [
       "<matplotlib.legend.Legend at 0x27e395c3d60>"
      ]
     },
     "execution_count": 12,
     "metadata": {},
     "output_type": "execute_result"
    },
    {
     "data": {
      "image/png": "[encoded data removed]",
      "text/plain": [
       "<Figure size 432x288 with 1 Axes>"
      ]
     },
     "metadata": {
      "needs_background": "light"
     },
     "output_type": "display_data"
    }
   ],
   "source": [
    "training_accuracy = []\n",
    "test_accuracy = []\n",
    "\n",
    "#desceremos 10 niveis na arvore para calculo\n",
    "prof_max = range(1,10)\n",
    "\n",
    "for md in prof_max:\n",
    "    tree = DecisionTreeClassifier(max_depth=md, random_state=0)\n",
    "    tree.fit(X_train_can, Y_train_can)\n",
    "    training_accuracy.append(tree.score(X_train_can, Y_train_can))\n",
    "    test_accuracy.append(tree.score(X_teste_can, y_teste_can))\n",
    "    \n",
    "plt.plot(prof_max, training_accuracy, label= 'Acuracia no conjunto treino')\n",
    "plt.plot(prof_max, test_accuracy, label= 'Acuracia no conjunto teste')\n",
    "plt.ylabel('Acuracia')\n",
    "plt.xlabel('Profundidade Maxima')\n",
    "plt.legend()  "
   ]
  },
  {
   "cell_type": "markdown",
   "id": "05c7928d",
   "metadata": {},
   "source": [
    "## Treinando os dados com o modelo de Regressão Linear"
   ]
  },
  {
   "cell_type": "code",
   "execution_count": 16,
   "id": "3084e7e7",
   "metadata": {},
   "outputs": [
    {
     "data": {
      "text/plain": [
       "<matplotlib.legend.Legend at 0x27e3a706a90>"
      ]
     },
     "execution_count": 16,
     "metadata": {},
     "output_type": "execute_result"
    },
    {
     "data": {
      "image/png": "[encoded data removed]",
      "text/plain": [
       "<Figure size 432x288 with 1 Axes>"
      ]
     },
     "metadata": {
      "needs_background": "light"
     },
     "output_type": "display_data"
    }
   ],
   "source": [
    "training_accuracy = []\n",
    "test_accuracy = []\n",
    "\n",
    "for interception in [True, False]:\n",
    "    regr = LinearRegression(fit_intercept=interception) \n",
    "    regr.fit(X_train_dia, Y_train_dia)\n",
    "    training_accuracy.append(regr.score(X_train_can, Y_train_can))\n",
    "    test_accuracy.append(regr.score(X_teste_can, y_teste_can))\n",
    "    \n",
    "plt.plot([\"Interc\", \"No Interc\"], training_accuracy, label= 'Acuracia no conjunto treino')\n",
    "plt.plot([\"Interc\", \"No Interc\"], test_accuracy, label= 'Acuracia no conjunto teste')\n",
    "plt.ylabel('Acuracia')\n",
    "plt.xlabel('Fit Intercept')\n",
    "plt.legend()  "
   ]
  },
  {
   "cell_type": "code",
   "execution_count": null,
   "id": "8dea916c",
   "metadata": {},
   "outputs": [],
   "source": []
  }
 ],
 "metadata": {
  "kernelspec": {
   "display_name": "Python 3 (ipykernel)",
   "language": "python",
   "name": "python3"
  },
  "language_info": {
   "codemirror_mode": {
    "name": "ipython",
    "version": 3
   },
   "file_extension": ".py",
   "mimetype": "text/x-python",
   "name": "python",
   "nbconvert_exporter": "python",
   "pygments_lexer": "ipython3",
   "version": "3.9.7"
  }
 },
 "nbformat": 4,
 "nbformat_minor": 5
}
